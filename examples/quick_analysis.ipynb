{
  "cells": [
    {
      "cell_type": "markdown",
      "metadata": {},
      "source": [
        "# Quick Analysis \u2014 Football Matches 2024/2025\n",
        "\n",
        "This notebook shows a small example to load and explore the dataset."
      ]
    },
    {
      "cell_type": "code",
      "execution_count": 1,
      "metadata": {},
      "outputs": [],
      "source": [
        "import pandas as pd\n",
        "import matplotlib.pyplot as plt\n",
        "\n",
        "# Load main file (ensure you placed the CSV under data/)\n",
        "df = pd.read_csv('data/football_matches_2024_2025.csv')\n",
        "print('Shape:', df.shape)\n",
        "df.head()"
      ]
    },
    {
      "cell_type": "code",
      "execution_count": 2,
      "metadata": {},
      "outputs": [],
      "source": [
        "# Average goals per competition\n",
        "avg_goals = df.groupby('competition')['total_goals'].mean()\n",
        "avg_goals.plot(kind='bar', figsize=(8,4))\n",
        "plt.title('Average Goals per Competition (2024/25)')\n",
        "plt.ylabel('Goals')\n",
        "plt.tight_layout()\n",
        "plt.show()"
      ]
    },
    {
      "cell_type": "code",
      "execution_count": 3,
      "metadata": {},
      "outputs": [],
      "source": [
        "# Distribution of outcomes\n",
        "outcome_counts = df['outcome'].value_counts()\n",
        "print(outcome_counts)"
      ]
    }
  ],
  "metadata": {
    "kernelspec": {
      "display_name": "Python 3",
      "language": "python",
      "name": "python3"
    },
    "language_info": {
      "name": "python",
      "version": "3.x"
    }
  },
  "nbformat": 4,
  "nbformat_minor": 5
}